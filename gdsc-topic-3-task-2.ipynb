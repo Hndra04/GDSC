{
 "cells": [
  {
   "cell_type": "code",
   "execution_count": 1,
   "id": "cb2fb411",
   "metadata": {
    "_cell_guid": "b1076dfc-b9ad-4769-8c92-a6c4dae69d19",
    "_uuid": "8f2839f25d086af736a60e9eeb907d3b93b6e0e5",
    "execution": {
     "iopub.execute_input": "2024-02-22T08:23:53.630271Z",
     "iopub.status.busy": "2024-02-22T08:23:53.629929Z",
     "iopub.status.idle": "2024-02-22T08:23:54.348904Z",
     "shell.execute_reply": "2024-02-22T08:23:54.347986Z"
    },
    "papermill": {
     "duration": 0.733238,
     "end_time": "2024-02-22T08:23:54.351201",
     "exception": false,
     "start_time": "2024-02-22T08:23:53.617963",
     "status": "completed"
    },
    "tags": []
   },
   "outputs": [
    {
     "name": "stdout",
     "output_type": "stream",
     "text": [
      "/kaggle/input/sentiment140/training.1600000.processed.noemoticon.csv\n"
     ]
    }
   ],
   "source": [
    "# This Python 3 environment comes with many helpful analytics libraries installed\n",
    "# It is defined by the kaggle/python Docker image: https://github.com/kaggle/docker-python\n",
    "# For example, here's several helpful packages to load\n",
    "\n",
    "import numpy as np # linear algebra\n",
    "import pandas as pd # data processing, CSV file I/O (e.g. pd.read_csv)\n",
    "\n",
    "# Input data files are available in the read-only \"../input/\" directory\n",
    "# For example, running this (by clicking run or pressing Shift+Enter) will list all files under the input directory\n",
    "\n",
    "import os\n",
    "for dirname, _, filenames in os.walk('/kaggle/input'):\n",
    "    for filename in filenames:\n",
    "        print(os.path.join(dirname, filename))\n",
    "\n",
    "# You can write up to 20GB to the current directory (/kaggle/working/) that gets preserved as output when you create a version using \"Save & Run All\" \n",
    "# You can also write temporary files to /kaggle/temp/, but they won't be saved outside of the current session"
   ]
  },
  {
   "cell_type": "code",
   "execution_count": 2,
   "id": "d2b51c2c",
   "metadata": {
    "execution": {
     "iopub.execute_input": "2024-02-22T08:23:54.370975Z",
     "iopub.status.busy": "2024-02-22T08:23:54.370569Z",
     "iopub.status.idle": "2024-02-22T08:24:00.247738Z",
     "shell.execute_reply": "2024-02-22T08:24:00.246965Z"
    },
    "papermill": {
     "duration": 5.889521,
     "end_time": "2024-02-22T08:24:00.250082",
     "exception": false,
     "start_time": "2024-02-22T08:23:54.360561",
     "status": "completed"
    },
    "tags": []
   },
   "outputs": [],
   "source": [
    "df = pd.read_csv('/kaggle/input/sentiment140/training.1600000.processed.noemoticon.csv',encoding='latin',header=None)"
   ]
  },
  {
   "cell_type": "code",
   "execution_count": 3,
   "id": "3a0d7849",
   "metadata": {
    "execution": {
     "iopub.execute_input": "2024-02-22T08:24:00.269904Z",
     "iopub.status.busy": "2024-02-22T08:24:00.269613Z",
     "iopub.status.idle": "2024-02-22T08:24:12.252498Z",
     "shell.execute_reply": "2024-02-22T08:24:12.251718Z"
    },
    "papermill": {
     "duration": 11.995232,
     "end_time": "2024-02-22T08:24:12.254836",
     "exception": false,
     "start_time": "2024-02-22T08:24:00.259604",
     "status": "completed"
    },
    "tags": []
   },
   "outputs": [
    {
     "name": "stderr",
     "output_type": "stream",
     "text": [
      "2024-02-22 08:24:01.973558: E external/local_xla/xla/stream_executor/cuda/cuda_dnn.cc:9261] Unable to register cuDNN factory: Attempting to register factory for plugin cuDNN when one has already been registered\n",
      "2024-02-22 08:24:01.973693: E external/local_xla/xla/stream_executor/cuda/cuda_fft.cc:607] Unable to register cuFFT factory: Attempting to register factory for plugin cuFFT when one has already been registered\n",
      "2024-02-22 08:24:02.094511: E external/local_xla/xla/stream_executor/cuda/cuda_blas.cc:1515] Unable to register cuBLAS factory: Attempting to register factory for plugin cuBLAS when one has already been registered\n"
     ]
    }
   ],
   "source": [
    "import tensorflow as tf\n",
    "import matplotlib.pyplot as plt"
   ]
  },
  {
   "cell_type": "code",
   "execution_count": 4,
   "id": "4f83ec42",
   "metadata": {
    "execution": {
     "iopub.execute_input": "2024-02-22T08:24:12.274898Z",
     "iopub.status.busy": "2024-02-22T08:24:12.274371Z",
     "iopub.status.idle": "2024-02-22T08:24:12.291316Z",
     "shell.execute_reply": "2024-02-22T08:24:12.290460Z"
    },
    "papermill": {
     "duration": 0.028964,
     "end_time": "2024-02-22T08:24:12.293318",
     "exception": false,
     "start_time": "2024-02-22T08:24:12.264354",
     "status": "completed"
    },
    "tags": []
   },
   "outputs": [
    {
     "data": {
      "text/html": [
       "<div>\n",
       "<style scoped>\n",
       "    .dataframe tbody tr th:only-of-type {\n",
       "        vertical-align: middle;\n",
       "    }\n",
       "\n",
       "    .dataframe tbody tr th {\n",
       "        vertical-align: top;\n",
       "    }\n",
       "\n",
       "    .dataframe thead th {\n",
       "        text-align: right;\n",
       "    }\n",
       "</style>\n",
       "<table border=\"1\" class=\"dataframe\">\n",
       "  <thead>\n",
       "    <tr style=\"text-align: right;\">\n",
       "      <th></th>\n",
       "      <th>0</th>\n",
       "      <th>1</th>\n",
       "      <th>2</th>\n",
       "      <th>3</th>\n",
       "      <th>4</th>\n",
       "      <th>5</th>\n",
       "    </tr>\n",
       "  </thead>\n",
       "  <tbody>\n",
       "    <tr>\n",
       "      <th>0</th>\n",
       "      <td>0</td>\n",
       "      <td>1467810369</td>\n",
       "      <td>Mon Apr 06 22:19:45 PDT 2009</td>\n",
       "      <td>NO_QUERY</td>\n",
       "      <td>_TheSpecialOne_</td>\n",
       "      <td>@switchfoot http://twitpic.com/2y1zl - Awww, t...</td>\n",
       "    </tr>\n",
       "    <tr>\n",
       "      <th>1</th>\n",
       "      <td>0</td>\n",
       "      <td>1467810672</td>\n",
       "      <td>Mon Apr 06 22:19:49 PDT 2009</td>\n",
       "      <td>NO_QUERY</td>\n",
       "      <td>scotthamilton</td>\n",
       "      <td>is upset that he can't update his Facebook by ...</td>\n",
       "    </tr>\n",
       "    <tr>\n",
       "      <th>2</th>\n",
       "      <td>0</td>\n",
       "      <td>1467810917</td>\n",
       "      <td>Mon Apr 06 22:19:53 PDT 2009</td>\n",
       "      <td>NO_QUERY</td>\n",
       "      <td>mattycus</td>\n",
       "      <td>@Kenichan I dived many times for the ball. Man...</td>\n",
       "    </tr>\n",
       "    <tr>\n",
       "      <th>3</th>\n",
       "      <td>0</td>\n",
       "      <td>1467811184</td>\n",
       "      <td>Mon Apr 06 22:19:57 PDT 2009</td>\n",
       "      <td>NO_QUERY</td>\n",
       "      <td>ElleCTF</td>\n",
       "      <td>my whole body feels itchy and like its on fire</td>\n",
       "    </tr>\n",
       "    <tr>\n",
       "      <th>4</th>\n",
       "      <td>0</td>\n",
       "      <td>1467811193</td>\n",
       "      <td>Mon Apr 06 22:19:57 PDT 2009</td>\n",
       "      <td>NO_QUERY</td>\n",
       "      <td>Karoli</td>\n",
       "      <td>@nationwideclass no, it's not behaving at all....</td>\n",
       "    </tr>\n",
       "  </tbody>\n",
       "</table>\n",
       "</div>"
      ],
      "text/plain": [
       "   0           1                             2         3                4  \\\n",
       "0  0  1467810369  Mon Apr 06 22:19:45 PDT 2009  NO_QUERY  _TheSpecialOne_   \n",
       "1  0  1467810672  Mon Apr 06 22:19:49 PDT 2009  NO_QUERY    scotthamilton   \n",
       "2  0  1467810917  Mon Apr 06 22:19:53 PDT 2009  NO_QUERY         mattycus   \n",
       "3  0  1467811184  Mon Apr 06 22:19:57 PDT 2009  NO_QUERY          ElleCTF   \n",
       "4  0  1467811193  Mon Apr 06 22:19:57 PDT 2009  NO_QUERY           Karoli   \n",
       "\n",
       "                                                   5  \n",
       "0  @switchfoot http://twitpic.com/2y1zl - Awww, t...  \n",
       "1  is upset that he can't update his Facebook by ...  \n",
       "2  @Kenichan I dived many times for the ball. Man...  \n",
       "3    my whole body feels itchy and like its on fire   \n",
       "4  @nationwideclass no, it's not behaving at all....  "
      ]
     },
     "execution_count": 4,
     "metadata": {},
     "output_type": "execute_result"
    }
   ],
   "source": [
    "df.head()"
   ]
  },
  {
   "cell_type": "code",
   "execution_count": 5,
   "id": "07b316c6",
   "metadata": {
    "execution": {
     "iopub.execute_input": "2024-02-22T08:24:12.313367Z",
     "iopub.status.busy": "2024-02-22T08:24:12.312794Z",
     "iopub.status.idle": "2024-02-22T08:24:12.317055Z",
     "shell.execute_reply": "2024-02-22T08:24:12.316243Z"
    },
    "papermill": {
     "duration": 0.016142,
     "end_time": "2024-02-22T08:24:12.318843",
     "exception": false,
     "start_time": "2024-02-22T08:24:12.302701",
     "status": "completed"
    },
    "tags": []
   },
   "outputs": [],
   "source": [
    "df.columns=['sentiment', 'id', 'date', 'query', 'user_id', 'text']"
   ]
  },
  {
   "cell_type": "code",
   "execution_count": 6,
   "id": "aa62cce7",
   "metadata": {
    "execution": {
     "iopub.execute_input": "2024-02-22T08:24:12.338836Z",
     "iopub.status.busy": "2024-02-22T08:24:12.338183Z",
     "iopub.status.idle": "2024-02-22T08:24:12.379336Z",
     "shell.execute_reply": "2024-02-22T08:24:12.378608Z"
    },
    "papermill": {
     "duration": 0.053283,
     "end_time": "2024-02-22T08:24:12.381383",
     "exception": false,
     "start_time": "2024-02-22T08:24:12.328100",
     "status": "completed"
    },
    "tags": []
   },
   "outputs": [],
   "source": [
    "df = df.drop(columns = ['id', 'date', 'query', 'user_id'])"
   ]
  },
  {
   "cell_type": "code",
   "execution_count": 7,
   "id": "e9547535",
   "metadata": {
    "execution": {
     "iopub.execute_input": "2024-02-22T08:24:12.401722Z",
     "iopub.status.busy": "2024-02-22T08:24:12.401453Z",
     "iopub.status.idle": "2024-02-22T08:24:12.409706Z",
     "shell.execute_reply": "2024-02-22T08:24:12.408783Z"
    },
    "papermill": {
     "duration": 0.02004,
     "end_time": "2024-02-22T08:24:12.411543",
     "exception": false,
     "start_time": "2024-02-22T08:24:12.391503",
     "status": "completed"
    },
    "tags": []
   },
   "outputs": [
    {
     "data": {
      "text/html": [
       "<div>\n",
       "<style scoped>\n",
       "    .dataframe tbody tr th:only-of-type {\n",
       "        vertical-align: middle;\n",
       "    }\n",
       "\n",
       "    .dataframe tbody tr th {\n",
       "        vertical-align: top;\n",
       "    }\n",
       "\n",
       "    .dataframe thead th {\n",
       "        text-align: right;\n",
       "    }\n",
       "</style>\n",
       "<table border=\"1\" class=\"dataframe\">\n",
       "  <thead>\n",
       "    <tr style=\"text-align: right;\">\n",
       "      <th></th>\n",
       "      <th>sentiment</th>\n",
       "      <th>text</th>\n",
       "    </tr>\n",
       "  </thead>\n",
       "  <tbody>\n",
       "    <tr>\n",
       "      <th>0</th>\n",
       "      <td>0</td>\n",
       "      <td>@switchfoot http://twitpic.com/2y1zl - Awww, t...</td>\n",
       "    </tr>\n",
       "    <tr>\n",
       "      <th>1</th>\n",
       "      <td>0</td>\n",
       "      <td>is upset that he can't update his Facebook by ...</td>\n",
       "    </tr>\n",
       "    <tr>\n",
       "      <th>2</th>\n",
       "      <td>0</td>\n",
       "      <td>@Kenichan I dived many times for the ball. Man...</td>\n",
       "    </tr>\n",
       "    <tr>\n",
       "      <th>3</th>\n",
       "      <td>0</td>\n",
       "      <td>my whole body feels itchy and like its on fire</td>\n",
       "    </tr>\n",
       "    <tr>\n",
       "      <th>4</th>\n",
       "      <td>0</td>\n",
       "      <td>@nationwideclass no, it's not behaving at all....</td>\n",
       "    </tr>\n",
       "  </tbody>\n",
       "</table>\n",
       "</div>"
      ],
      "text/plain": [
       "   sentiment                                               text\n",
       "0          0  @switchfoot http://twitpic.com/2y1zl - Awww, t...\n",
       "1          0  is upset that he can't update his Facebook by ...\n",
       "2          0  @Kenichan I dived many times for the ball. Man...\n",
       "3          0    my whole body feels itchy and like its on fire \n",
       "4          0  @nationwideclass no, it's not behaving at all...."
      ]
     },
     "execution_count": 7,
     "metadata": {},
     "output_type": "execute_result"
    }
   ],
   "source": [
    "df.head()"
   ]
  },
  {
   "cell_type": "code",
   "execution_count": 8,
   "id": "f7c26b84",
   "metadata": {
    "execution": {
     "iopub.execute_input": "2024-02-22T08:24:12.431509Z",
     "iopub.status.busy": "2024-02-22T08:24:12.431259Z",
     "iopub.status.idle": "2024-02-22T08:24:12.435446Z",
     "shell.execute_reply": "2024-02-22T08:24:12.434644Z"
    },
    "papermill": {
     "duration": 0.016146,
     "end_time": "2024-02-22T08:24:12.437253",
     "exception": false,
     "start_time": "2024-02-22T08:24:12.421107",
     "status": "completed"
    },
    "tags": []
   },
   "outputs": [],
   "source": [
    "def sentiment_make(sentiment):\n",
    "    if sentiment == 0 : return 'Negative'\n",
    "    elif sentiment == 2 : return 'Neutral'\n",
    "    elif sentiment == 4 : return 'Positive'"
   ]
  },
  {
   "cell_type": "code",
   "execution_count": 9,
   "id": "53eeca0d",
   "metadata": {
    "execution": {
     "iopub.execute_input": "2024-02-22T08:24:12.457120Z",
     "iopub.status.busy": "2024-02-22T08:24:12.456839Z",
     "iopub.status.idle": "2024-02-22T08:24:12.962271Z",
     "shell.execute_reply": "2024-02-22T08:24:12.961372Z"
    },
    "papermill": {
     "duration": 0.517872,
     "end_time": "2024-02-22T08:24:12.964538",
     "exception": false,
     "start_time": "2024-02-22T08:24:12.446666",
     "status": "completed"
    },
    "tags": []
   },
   "outputs": [],
   "source": [
    "df['sentiments'] = df['sentiment'].apply(sentiment_make)"
   ]
  },
  {
   "cell_type": "code",
   "execution_count": 10,
   "id": "18f2859d",
   "metadata": {
    "execution": {
     "iopub.execute_input": "2024-02-22T08:24:12.985215Z",
     "iopub.status.busy": "2024-02-22T08:24:12.984891Z",
     "iopub.status.idle": "2024-02-22T08:24:12.994009Z",
     "shell.execute_reply": "2024-02-22T08:24:12.993089Z"
    },
    "papermill": {
     "duration": 0.021585,
     "end_time": "2024-02-22T08:24:12.996008",
     "exception": false,
     "start_time": "2024-02-22T08:24:12.974423",
     "status": "completed"
    },
    "tags": []
   },
   "outputs": [
    {
     "data": {
      "text/html": [
       "<div>\n",
       "<style scoped>\n",
       "    .dataframe tbody tr th:only-of-type {\n",
       "        vertical-align: middle;\n",
       "    }\n",
       "\n",
       "    .dataframe tbody tr th {\n",
       "        vertical-align: top;\n",
       "    }\n",
       "\n",
       "    .dataframe thead th {\n",
       "        text-align: right;\n",
       "    }\n",
       "</style>\n",
       "<table border=\"1\" class=\"dataframe\">\n",
       "  <thead>\n",
       "    <tr style=\"text-align: right;\">\n",
       "      <th></th>\n",
       "      <th>sentiment</th>\n",
       "      <th>text</th>\n",
       "      <th>sentiments</th>\n",
       "    </tr>\n",
       "  </thead>\n",
       "  <tbody>\n",
       "    <tr>\n",
       "      <th>0</th>\n",
       "      <td>0</td>\n",
       "      <td>@switchfoot http://twitpic.com/2y1zl - Awww, t...</td>\n",
       "      <td>Negative</td>\n",
       "    </tr>\n",
       "    <tr>\n",
       "      <th>1</th>\n",
       "      <td>0</td>\n",
       "      <td>is upset that he can't update his Facebook by ...</td>\n",
       "      <td>Negative</td>\n",
       "    </tr>\n",
       "    <tr>\n",
       "      <th>2</th>\n",
       "      <td>0</td>\n",
       "      <td>@Kenichan I dived many times for the ball. Man...</td>\n",
       "      <td>Negative</td>\n",
       "    </tr>\n",
       "    <tr>\n",
       "      <th>3</th>\n",
       "      <td>0</td>\n",
       "      <td>my whole body feels itchy and like its on fire</td>\n",
       "      <td>Negative</td>\n",
       "    </tr>\n",
       "    <tr>\n",
       "      <th>4</th>\n",
       "      <td>0</td>\n",
       "      <td>@nationwideclass no, it's not behaving at all....</td>\n",
       "      <td>Negative</td>\n",
       "    </tr>\n",
       "  </tbody>\n",
       "</table>\n",
       "</div>"
      ],
      "text/plain": [
       "   sentiment                                               text sentiments\n",
       "0          0  @switchfoot http://twitpic.com/2y1zl - Awww, t...   Negative\n",
       "1          0  is upset that he can't update his Facebook by ...   Negative\n",
       "2          0  @Kenichan I dived many times for the ball. Man...   Negative\n",
       "3          0    my whole body feels itchy and like its on fire    Negative\n",
       "4          0  @nationwideclass no, it's not behaving at all....   Negative"
      ]
     },
     "execution_count": 10,
     "metadata": {},
     "output_type": "execute_result"
    }
   ],
   "source": [
    "df.head()"
   ]
  },
  {
   "cell_type": "code",
   "execution_count": 11,
   "id": "9e12688a",
   "metadata": {
    "execution": {
     "iopub.execute_input": "2024-02-22T08:24:13.017164Z",
     "iopub.status.busy": "2024-02-22T08:24:13.016575Z",
     "iopub.status.idle": "2024-02-22T08:24:13.084292Z",
     "shell.execute_reply": "2024-02-22T08:24:13.083488Z"
    },
    "papermill": {
     "duration": 0.08019,
     "end_time": "2024-02-22T08:24:13.086388",
     "exception": false,
     "start_time": "2024-02-22T08:24:13.006198",
     "status": "completed"
    },
    "tags": []
   },
   "outputs": [],
   "source": [
    "df = df.drop(columns = ['sentiment'])"
   ]
  },
  {
   "cell_type": "code",
   "execution_count": 12,
   "id": "fc3de8ab",
   "metadata": {
    "execution": {
     "iopub.execute_input": "2024-02-22T08:24:13.107229Z",
     "iopub.status.busy": "2024-02-22T08:24:13.106950Z",
     "iopub.status.idle": "2024-02-22T08:24:15.599973Z",
     "shell.execute_reply": "2024-02-22T08:24:15.598952Z"
    },
    "papermill": {
     "duration": 2.505983,
     "end_time": "2024-02-22T08:24:15.602267",
     "exception": false,
     "start_time": "2024-02-22T08:24:13.096284",
     "status": "completed"
    },
    "tags": []
   },
   "outputs": [
    {
     "data": {
      "text/html": [
       "<div>\n",
       "<style scoped>\n",
       "    .dataframe tbody tr th:only-of-type {\n",
       "        vertical-align: middle;\n",
       "    }\n",
       "\n",
       "    .dataframe tbody tr th {\n",
       "        vertical-align: top;\n",
       "    }\n",
       "\n",
       "    .dataframe thead th {\n",
       "        text-align: right;\n",
       "    }\n",
       "</style>\n",
       "<table border=\"1\" class=\"dataframe\">\n",
       "  <thead>\n",
       "    <tr style=\"text-align: right;\">\n",
       "      <th></th>\n",
       "      <th>text</th>\n",
       "      <th>sentiments</th>\n",
       "    </tr>\n",
       "  </thead>\n",
       "  <tbody>\n",
       "    <tr>\n",
       "      <th>count</th>\n",
       "      <td>1600000</td>\n",
       "      <td>1600000</td>\n",
       "    </tr>\n",
       "    <tr>\n",
       "      <th>unique</th>\n",
       "      <td>1581466</td>\n",
       "      <td>2</td>\n",
       "    </tr>\n",
       "    <tr>\n",
       "      <th>top</th>\n",
       "      <td>isPlayer Has Died! Sorry</td>\n",
       "      <td>Negative</td>\n",
       "    </tr>\n",
       "    <tr>\n",
       "      <th>freq</th>\n",
       "      <td>210</td>\n",
       "      <td>800000</td>\n",
       "    </tr>\n",
       "  </tbody>\n",
       "</table>\n",
       "</div>"
      ],
      "text/plain": [
       "                             text sentiments\n",
       "count                     1600000    1600000\n",
       "unique                    1581466          2\n",
       "top     isPlayer Has Died! Sorry    Negative\n",
       "freq                          210     800000"
      ]
     },
     "execution_count": 12,
     "metadata": {},
     "output_type": "execute_result"
    }
   ],
   "source": [
    "df.describe()"
   ]
  },
  {
   "cell_type": "code",
   "execution_count": 13,
   "id": "c6ec8bfe",
   "metadata": {
    "execution": {
     "iopub.execute_input": "2024-02-22T08:24:15.628376Z",
     "iopub.status.busy": "2024-02-22T08:24:15.628090Z",
     "iopub.status.idle": "2024-02-22T08:24:15.935148Z",
     "shell.execute_reply": "2024-02-22T08:24:15.934105Z"
    },
    "papermill": {
     "duration": 0.320524,
     "end_time": "2024-02-22T08:24:15.937400",
     "exception": false,
     "start_time": "2024-02-22T08:24:15.616876",
     "status": "completed"
    },
    "tags": []
   },
   "outputs": [
    {
     "name": "stdout",
     "output_type": "stream",
     "text": [
      "<class 'pandas.core.frame.DataFrame'>\n",
      "RangeIndex: 1600000 entries, 0 to 1599999\n",
      "Data columns (total 2 columns):\n",
      " #   Column      Non-Null Count    Dtype \n",
      "---  ------      --------------    ----- \n",
      " 0   text        1600000 non-null  object\n",
      " 1   sentiments  1600000 non-null  object\n",
      "dtypes: object(2)\n",
      "memory usage: 24.4+ MB\n"
     ]
    }
   ],
   "source": [
    "df.info()"
   ]
  },
  {
   "cell_type": "code",
   "execution_count": 14,
   "id": "7a3e4a7e",
   "metadata": {
    "execution": {
     "iopub.execute_input": "2024-02-22T08:24:15.960012Z",
     "iopub.status.busy": "2024-02-22T08:24:15.959676Z",
     "iopub.status.idle": "2024-02-22T08:24:16.263134Z",
     "shell.execute_reply": "2024-02-22T08:24:16.262148Z"
    },
    "papermill": {
     "duration": 0.316463,
     "end_time": "2024-02-22T08:24:16.265054",
     "exception": false,
     "start_time": "2024-02-22T08:24:15.948591",
     "status": "completed"
    },
    "tags": []
   },
   "outputs": [
    {
     "data": {
      "text/plain": [
       "text          0\n",
       "sentiments    0\n",
       "dtype: int64"
      ]
     },
     "execution_count": 14,
     "metadata": {},
     "output_type": "execute_result"
    }
   ],
   "source": [
    "df.isna().sum()"
   ]
  },
  {
   "cell_type": "code",
   "execution_count": 15,
   "id": "9ab3b1be",
   "metadata": {
    "execution": {
     "iopub.execute_input": "2024-02-22T08:24:16.286707Z",
     "iopub.status.busy": "2024-02-22T08:24:16.286409Z",
     "iopub.status.idle": "2024-02-22T08:24:16.683753Z",
     "shell.execute_reply": "2024-02-22T08:24:16.682849Z"
    },
    "papermill": {
     "duration": 0.410471,
     "end_time": "2024-02-22T08:24:16.685963",
     "exception": false,
     "start_time": "2024-02-22T08:24:16.275492",
     "status": "completed"
    },
    "tags": []
   },
   "outputs": [
    {
     "data": {
      "text/plain": [
       "Text(0.5, 1.0, 'Sentiment Count')"
      ]
     },
     "execution_count": 15,
     "metadata": {},
     "output_type": "execute_result"
    },
    {
     "data": {
      "image/png": "[encoded data removed]",
      "text/plain": [
       "<Figure size 640x480 with 1 Axes>"
      ]
     },
     "metadata": {},
     "output_type": "display_data"
    }
   ],
   "source": [
    "bar = df['sentiments'].value_counts()\n",
    "plt.bar(bar.index, bar)\n",
    "plt.xlabel('Sentiment')\n",
    "plt.ylabel('Count')\n",
    "plt.title('Sentiment Count')"
   ]
  },
  {
   "cell_type": "code",
   "execution_count": 16,
   "id": "f49a4ec7",
   "metadata": {
    "execution": {
     "iopub.execute_input": "2024-02-22T08:24:16.708937Z",
     "iopub.status.busy": "2024-02-22T08:24:16.708602Z",
     "iopub.status.idle": "2024-02-22T08:24:18.251566Z",
     "shell.execute_reply": "2024-02-22T08:24:18.250661Z"
    },
    "papermill": {
     "duration": 1.556597,
     "end_time": "2024-02-22T08:24:18.253683",
     "exception": false,
     "start_time": "2024-02-22T08:24:16.697086",
     "status": "completed"
    },
    "tags": []
   },
   "outputs": [
    {
     "name": "stdout",
     "output_type": "stream",
     "text": [
      "[nltk_data] Downloading package stopwords to /usr/share/nltk_data...\n",
      "[nltk_data]   Package stopwords is already up-to-date!\n",
      "[nltk_data] Downloading package punkt to /usr/share/nltk_data...\n",
      "[nltk_data]   Package punkt is already up-to-date!\n"
     ]
    },
    {
     "data": {
      "text/plain": [
       "True"
      ]
     },
     "execution_count": 16,
     "metadata": {},
     "output_type": "execute_result"
    }
   ],
   "source": [
    "import nltk\n",
    "nltk.download('stopwords')\n",
    "nltk.download('punkt')"
   ]
  },
  {
   "cell_type": "code",
   "execution_count": 17,
   "id": "a3189de4",
   "metadata": {
    "execution": {
     "iopub.execute_input": "2024-02-22T08:24:18.277657Z",
     "iopub.status.busy": "2024-02-22T08:24:18.277076Z",
     "iopub.status.idle": "2024-02-22T08:24:18.281476Z",
     "shell.execute_reply": "2024-02-22T08:24:18.280639Z"
    },
    "papermill": {
     "duration": 0.018551,
     "end_time": "2024-02-22T08:24:18.283402",
     "exception": false,
     "start_time": "2024-02-22T08:24:18.264851",
     "status": "completed"
    },
    "tags": []
   },
   "outputs": [],
   "source": [
    "from nltk.corpus import stopwords\n",
    "from nltk.stem import PorterStemmer\n",
    "import re"
   ]
  },
  {
   "cell_type": "code",
   "execution_count": 18,
   "id": "6a9093c8",
   "metadata": {
    "execution": {
     "iopub.execute_input": "2024-02-22T08:24:18.306273Z",
     "iopub.status.busy": "2024-02-22T08:24:18.305984Z",
     "iopub.status.idle": "2024-02-22T08:24:18.312057Z",
     "shell.execute_reply": "2024-02-22T08:24:18.311383Z"
    },
    "papermill": {
     "duration": 0.019573,
     "end_time": "2024-02-22T08:24:18.313884",
     "exception": false,
     "start_time": "2024-02-22T08:24:18.294311",
     "status": "completed"
    },
    "tags": []
   },
   "outputs": [],
   "source": [
    "stopwords_eng = set(stopwords.words('english'))\n",
    "ps = PorterStemmer()"
   ]
  },
  {
   "cell_type": "code",
   "execution_count": 19,
   "id": "85b4a271",
   "metadata": {
    "execution": {
     "iopub.execute_input": "2024-02-22T08:24:18.336452Z",
     "iopub.status.busy": "2024-02-22T08:24:18.336178Z",
     "iopub.status.idle": "2024-02-22T08:24:18.341632Z",
     "shell.execute_reply": "2024-02-22T08:24:18.340779Z"
    },
    "papermill": {
     "duration": 0.018928,
     "end_time": "2024-02-22T08:24:18.343638",
     "exception": false,
     "start_time": "2024-02-22T08:24:18.324710",
     "status": "completed"
    },
    "tags": []
   },
   "outputs": [],
   "source": [
    "def clean_txt(txt, stem = False):\n",
    "    txt = re.sub(r'@\\S+|https?:\\S+|http?:\\S|[^A-Za-z0-9]+', ' ', str(txt).lower()).strip()\n",
    "    tokens = []\n",
    "    for token in txt.split():\n",
    "        if token not in stopwords_eng:\n",
    "            if stem:\n",
    "                tokens.append(ps.stem(token))\n",
    "            else:\n",
    "                tokens.append(token)\n",
    "    return \" \".join(tokens)"
   ]
  },
  {
   "cell_type": "code",
   "execution_count": 20,
   "id": "298eb5b9",
   "metadata": {
    "execution": {
     "iopub.execute_input": "2024-02-22T08:24:18.365938Z",
     "iopub.status.busy": "2024-02-22T08:24:18.365664Z",
     "iopub.status.idle": "2024-02-22T08:24:42.478222Z",
     "shell.execute_reply": "2024-02-22T08:24:42.477359Z"
    },
    "papermill": {
     "duration": 24.126222,
     "end_time": "2024-02-22T08:24:42.480524",
     "exception": false,
     "start_time": "2024-02-22T08:24:18.354302",
     "status": "completed"
    },
    "tags": []
   },
   "outputs": [],
   "source": [
    "df['text'] = df['text'].apply(lambda x: clean_txt(x))"
   ]
  },
  {
   "cell_type": "code",
   "execution_count": 21,
   "id": "0cc3043c",
   "metadata": {
    "execution": {
     "iopub.execute_input": "2024-02-22T08:24:42.504227Z",
     "iopub.status.busy": "2024-02-22T08:24:42.503885Z",
     "iopub.status.idle": "2024-02-22T08:24:42.507953Z",
     "shell.execute_reply": "2024-02-22T08:24:42.507087Z"
    },
    "papermill": {
     "duration": 0.017904,
     "end_time": "2024-02-22T08:24:42.509942",
     "exception": false,
     "start_time": "2024-02-22T08:24:42.492038",
     "status": "completed"
    },
    "tags": []
   },
   "outputs": [],
   "source": [
    "from sklearn.model_selection import train_test_split"
   ]
  },
  {
   "cell_type": "code",
   "execution_count": 22,
   "id": "9d0663fd",
   "metadata": {
    "execution": {
     "iopub.execute_input": "2024-02-22T08:24:42.532287Z",
     "iopub.status.busy": "2024-02-22T08:24:42.532022Z",
     "iopub.status.idle": "2024-02-22T08:24:42.839531Z",
     "shell.execute_reply": "2024-02-22T08:24:42.838747Z"
    },
    "papermill": {
     "duration": 0.321289,
     "end_time": "2024-02-22T08:24:42.841956",
     "exception": false,
     "start_time": "2024-02-22T08:24:42.520667",
     "status": "completed"
    },
    "tags": []
   },
   "outputs": [],
   "source": [
    "train_data,test_data=train_test_split(df, random_state = 42)"
   ]
  },
  {
   "cell_type": "code",
   "execution_count": 23,
   "id": "94afd4ed",
   "metadata": {
    "execution": {
     "iopub.execute_input": "2024-02-22T08:24:42.865161Z",
     "iopub.status.busy": "2024-02-22T08:24:42.864815Z",
     "iopub.status.idle": "2024-02-22T08:24:42.874029Z",
     "shell.execute_reply": "2024-02-22T08:24:42.873182Z"
    },
    "papermill": {
     "duration": 0.022776,
     "end_time": "2024-02-22T08:24:42.875877",
     "exception": false,
     "start_time": "2024-02-22T08:24:42.853101",
     "status": "completed"
    },
    "tags": []
   },
   "outputs": [
    {
     "data": {
      "text/html": [
       "<div>\n",
       "<style scoped>\n",
       "    .dataframe tbody tr th:only-of-type {\n",
       "        vertical-align: middle;\n",
       "    }\n",
       "\n",
       "    .dataframe tbody tr th {\n",
       "        vertical-align: top;\n",
       "    }\n",
       "\n",
       "    .dataframe thead th {\n",
       "        text-align: right;\n",
       "    }\n",
       "</style>\n",
       "<table border=\"1\" class=\"dataframe\">\n",
       "  <thead>\n",
       "    <tr style=\"text-align: right;\">\n",
       "      <th></th>\n",
       "      <th>text</th>\n",
       "      <th>sentiments</th>\n",
       "    </tr>\n",
       "  </thead>\n",
       "  <tbody>\n",
       "    <tr>\n",
       "      <th>66270</th>\n",
       "      <td>dame 1</td>\n",
       "      <td>Negative</td>\n",
       "    </tr>\n",
       "    <tr>\n",
       "      <th>428045</th>\n",
       "      <td>thesaurus world sale ended</td>\n",
       "      <td>Negative</td>\n",
       "    </tr>\n",
       "    <tr>\n",
       "      <th>1307928</th>\n",
       "      <td>ight let lil white boy know hahaha</td>\n",
       "      <td>Positive</td>\n",
       "    </tr>\n",
       "    <tr>\n",
       "      <th>1112401</th>\n",
       "      <td>tweetlater pro way go really want work like</td>\n",
       "      <td>Positive</td>\n",
       "    </tr>\n",
       "    <tr>\n",
       "      <th>840793</th>\n",
       "      <td>loved</td>\n",
       "      <td>Positive</td>\n",
       "    </tr>\n",
       "  </tbody>\n",
       "</table>\n",
       "</div>"
      ],
      "text/plain": [
       "                                                text sentiments\n",
       "66270                                         dame 1   Negative\n",
       "428045                    thesaurus world sale ended   Negative\n",
       "1307928           ight let lil white boy know hahaha   Positive\n",
       "1112401  tweetlater pro way go really want work like   Positive\n",
       "840793                                         loved   Positive"
      ]
     },
     "execution_count": 23,
     "metadata": {},
     "output_type": "execute_result"
    }
   ],
   "source": [
    "train_data.head()"
   ]
  },
  {
   "cell_type": "code",
   "execution_count": 24,
   "id": "69739795",
   "metadata": {
    "execution": {
     "iopub.execute_input": "2024-02-22T08:24:42.898921Z",
     "iopub.status.busy": "2024-02-22T08:24:42.898631Z",
     "iopub.status.idle": "2024-02-22T08:24:42.992182Z",
     "shell.execute_reply": "2024-02-22T08:24:42.991231Z"
    },
    "papermill": {
     "duration": 0.107704,
     "end_time": "2024-02-22T08:24:42.994591",
     "exception": false,
     "start_time": "2024-02-22T08:24:42.886887",
     "status": "completed"
    },
    "tags": []
   },
   "outputs": [],
   "source": [
    "from tensorflow.keras.preprocessing.text import Tokenizer\n",
    "from keras.preprocessing import sequence"
   ]
  },
  {
   "cell_type": "code",
   "execution_count": 25,
   "id": "a9345bc0",
   "metadata": {
    "execution": {
     "iopub.execute_input": "2024-02-22T08:24:43.018185Z",
     "iopub.status.busy": "2024-02-22T08:24:43.017834Z",
     "iopub.status.idle": "2024-02-22T08:25:26.067546Z",
     "shell.execute_reply": "2024-02-22T08:25:26.066481Z"
    },
    "papermill": {
     "duration": 43.06416,
     "end_time": "2024-02-22T08:25:26.070095",
     "exception": false,
     "start_time": "2024-02-22T08:24:43.005935",
     "status": "completed"
    },
    "tags": []
   },
   "outputs": [],
   "source": [
    "t = Tokenizer()\n",
    "t.fit_on_texts(train_data.text)\n",
    "train_seq = t.texts_to_sequences(train_data.text)\n",
    "test_seq = t.texts_to_sequences(test_data.text)"
   ]
  },
  {
   "cell_type": "code",
   "execution_count": 26,
   "id": "b6fc7041",
   "metadata": {
    "execution": {
     "iopub.execute_input": "2024-02-22T08:25:26.094360Z",
     "iopub.status.busy": "2024-02-22T08:25:26.094041Z",
     "iopub.status.idle": "2024-02-22T08:25:26.098111Z",
     "shell.execute_reply": "2024-02-22T08:25:26.097252Z"
    },
    "papermill": {
     "duration": 0.018303,
     "end_time": "2024-02-22T08:25:26.100115",
     "exception": false,
     "start_time": "2024-02-22T08:25:26.081812",
     "status": "completed"
    },
    "tags": []
   },
   "outputs": [],
   "source": [
    "max_len = 30\n",
    "max_words = 100000"
   ]
  },
  {
   "cell_type": "code",
   "execution_count": 27,
   "id": "8fb5856a",
   "metadata": {
    "execution": {
     "iopub.execute_input": "2024-02-22T08:25:26.123123Z",
     "iopub.status.busy": "2024-02-22T08:25:26.122832Z",
     "iopub.status.idle": "2024-02-22T08:25:32.510486Z",
     "shell.execute_reply": "2024-02-22T08:25:32.509564Z"
    },
    "papermill": {
     "duration": 6.401644,
     "end_time": "2024-02-22T08:25:32.512780",
     "exception": false,
     "start_time": "2024-02-22T08:25:26.111136",
     "status": "completed"
    },
    "tags": []
   },
   "outputs": [
    {
     "name": "stdout",
     "output_type": "stream",
     "text": [
      "Traning text shape: (1200000, 30)\n",
      "Test text shape: (400000, 30)\n"
     ]
    }
   ],
   "source": [
    "text_train = sequence.pad_sequences(train_seq, maxlen = max_len)\n",
    "text_test = sequence.pad_sequences(test_seq, maxlen = max_len)\n",
    "print(f\"Traning text shape: {text_train.shape}\")\n",
    "print(f\"Test text shape: {text_test.shape}\")"
   ]
  },
  {
   "cell_type": "code",
   "execution_count": 28,
   "id": "ee0210da",
   "metadata": {
    "execution": {
     "iopub.execute_input": "2024-02-22T08:25:32.536391Z",
     "iopub.status.busy": "2024-02-22T08:25:32.536094Z",
     "iopub.status.idle": "2024-02-22T08:25:32.934771Z",
     "shell.execute_reply": "2024-02-22T08:25:32.933805Z"
    },
    "papermill": {
     "duration": 0.412578,
     "end_time": "2024-02-22T08:25:32.936750",
     "exception": false,
     "start_time": "2024-02-22T08:25:32.524172",
     "status": "completed"
    },
    "tags": []
   },
   "outputs": [
    {
     "name": "stdout",
     "output_type": "stream",
     "text": [
      "(1200000, 1) (400000, 1)\n"
     ]
    }
   ],
   "source": [
    "from sklearn.preprocessing import LabelEncoder\n",
    "encoder = LabelEncoder()\n",
    "encodedsentiments_train = encoder.fit_transform(train_data['sentiments'])\n",
    "encodedsentiments_test = encoder.fit_transform(test_data['sentiments'])\n",
    "encodedsentiments_train = encodedsentiments_train.reshape(-1,1)\n",
    "encodedsentiments_test = encodedsentiments_test.reshape(-1,1)\n",
    "print(encodedsentiments_train.shape,encodedsentiments_test.shape)"
   ]
  },
  {
   "cell_type": "code",
   "execution_count": 29,
   "id": "21590e19",
   "metadata": {
    "execution": {
     "iopub.execute_input": "2024-02-22T08:25:32.961038Z",
     "iopub.status.busy": "2024-02-22T08:25:32.960285Z",
     "iopub.status.idle": "2024-02-22T08:25:34.419400Z",
     "shell.execute_reply": "2024-02-22T08:25:34.418394Z"
    },
    "papermill": {
     "duration": 1.476957,
     "end_time": "2024-02-22T08:25:34.425212",
     "exception": false,
     "start_time": "2024-02-22T08:25:32.948255",
     "status": "completed"
    },
    "tags": []
   },
   "outputs": [
    {
     "name": "stdout",
     "output_type": "stream",
     "text": [
      "Model: \"model\"\n",
      "_________________________________________________________________\n",
      " Layer (type)                Output Shape              Param #   \n",
      "=================================================================\n",
      " input_1 (InputLayer)        [(None, 30)]              0         \n",
      "                                                                 \n",
      " embedding (Embedding)       (None, 30, 50)            5000000   \n",
      "                                                                 \n",
      " lstm (LSTM)                 (None, 64)                29440     \n",
      "                                                                 \n",
      " dense (Dense)               (None, 256)               16640     \n",
      "                                                                 \n",
      " dropout (Dropout)           (None, 256)               0         \n",
      "                                                                 \n",
      " dense_1 (Dense)             (None, 1)                 257       \n",
      "                                                                 \n",
      "=================================================================\n",
      "Total params: 5046337 (19.25 MB)\n",
      "Trainable params: 5046337 (19.25 MB)\n",
      "Non-trainable params: 0 (0.00 Byte)\n",
      "_________________________________________________________________\n"
     ]
    }
   ],
   "source": [
    "i = tf.keras.layers.Input(shape=[max_len])\n",
    "x = tf.keras.layers.Embedding(max_words, 50, input_length=max_len)(i)\n",
    "x = tf.keras.layers.LSTM(64)(x)\n",
    "\n",
    "x = tf.keras.layers.Dense(256, activation='relu')(x)\n",
    "x = tf.keras.layers.Dropout(0.5)(x)\n",
    "x = tf.keras.layers.Dense(1, activation='sigmoid')(x)\n",
    "\n",
    "model = tf.keras.models.Model(inputs=i, outputs=x)\n",
    "model.compile(\n",
    "    loss='binary_crossentropy',\n",
    "    optimizer='adam',\n",
    "    metrics=['accuracy']\n",
    ")\n",
    "model.summary()"
   ]
  },
  {
   "cell_type": "code",
   "execution_count": 30,
   "id": "3c558cf4",
   "metadata": {
    "execution": {
     "iopub.execute_input": "2024-02-22T08:25:34.452444Z",
     "iopub.status.busy": "2024-02-22T08:25:34.452123Z",
     "iopub.status.idle": "2024-02-22T08:30:29.468145Z",
     "shell.execute_reply": "2024-02-22T08:30:29.467154Z"
    },
    "papermill": {
     "duration": 295.032439,
     "end_time": "2024-02-22T08:30:29.470507",
     "exception": false,
     "start_time": "2024-02-22T08:25:34.438068",
     "status": "completed"
    },
    "tags": []
   },
   "outputs": [
    {
     "name": "stdout",
     "output_type": "stream",
     "text": [
      "Epoch 1/5\n"
     ]
    },
    {
     "name": "stderr",
     "output_type": "stream",
     "text": [
      "WARNING: All log messages before absl::InitializeLog() is called are written to STDERR\n",
      "I0000 00:00:1708590338.399021      68 device_compiler.h:186] Compiled cluster using XLA!  This line is logged at most once for the lifetime of the process.\n"
     ]
    },
    {
     "name": "stdout",
     "output_type": "stream",
     "text": [
      "9375/9375 [==============================] - 88s 9ms/step - loss: 0.4649 - accuracy: 0.7778 - val_loss: 0.4457 - val_accuracy: 0.7891 - lr: 0.0010\n",
      "Epoch 2/5\n",
      "9375/9375 [==============================] - 53s 6ms/step - loss: 0.4197 - accuracy: 0.8057 - val_loss: 0.4451 - val_accuracy: 0.7915 - lr: 0.0010\n",
      "Epoch 3/5\n",
      "9375/9375 [==============================] - 51s 5ms/step - loss: 0.3861 - accuracy: 0.8244 - val_loss: 0.4547 - val_accuracy: 0.7891 - lr: 0.0010\n",
      "Epoch 4/5\n",
      "9375/9375 [==============================] - 51s 5ms/step - loss: 0.3492 - accuracy: 0.8436 - val_loss: 0.4847 - val_accuracy: 0.7834 - lr: 0.0010\n",
      "Epoch 5/5\n",
      "9375/9375 [==============================] - 51s 5ms/step - loss: 0.3110 - accuracy: 0.8618 - val_loss: 0.5354 - val_accuracy: 0.7751 - lr: 0.0010\n"
     ]
    }
   ],
   "source": [
    "r = model.fit(text_train, encodedsentiments_train,\n",
    "              batch_size=128, epochs=5, validation_data=(text_test, encodedsentiments_test),\n",
    "              callbacks=[tf.keras.callbacks.ReduceLROnPlateau(monitor='val_loss', factor=0.1, verbose = 1, min_lr=0.01)])"
   ]
  },
  {
   "cell_type": "code",
   "execution_count": 31,
   "id": "9847378e",
   "metadata": {
    "execution": {
     "iopub.execute_input": "2024-02-22T08:30:30.245541Z",
     "iopub.status.busy": "2024-02-22T08:30:30.245183Z",
     "iopub.status.idle": "2024-02-22T08:30:30.472767Z",
     "shell.execute_reply": "2024-02-22T08:30:30.471859Z"
    },
    "papermill": {
     "duration": 0.639257,
     "end_time": "2024-02-22T08:30:30.474733",
     "exception": false,
     "start_time": "2024-02-22T08:30:29.835476",
     "status": "completed"
    },
    "tags": []
   },
   "outputs": [
    {
     "data": {
      "text/plain": [
       "<matplotlib.legend.Legend at 0x7e565461dc00>"
      ]
     },
     "execution_count": 31,
     "metadata": {},
     "output_type": "execute_result"
    },
    {
     "data": {
      "image/png": "[encoded data removed]",
      "text/plain": [
       "<Figure size 640x480 with 1 Axes>"
      ]
     },
     "metadata": {},
     "output_type": "display_data"
    }
   ],
   "source": [
    "plt.plot(r.history['loss'], label='loss')\n",
    "plt.plot(r.history['val_loss'], label='val_loss')\n",
    "plt.legend()"
   ]
  },
  {
   "cell_type": "code",
   "execution_count": 32,
   "id": "d940bc8e",
   "metadata": {
    "execution": {
     "iopub.execute_input": "2024-02-22T08:30:31.200653Z",
     "iopub.status.busy": "2024-02-22T08:30:31.199724Z",
     "iopub.status.idle": "2024-02-22T08:30:31.419076Z",
     "shell.execute_reply": "2024-02-22T08:30:31.417989Z"
    },
    "papermill": {
     "duration": 0.583577,
     "end_time": "2024-02-22T08:30:31.421282",
     "exception": false,
     "start_time": "2024-02-22T08:30:30.837705",
     "status": "completed"
    },
    "tags": []
   },
   "outputs": [
    {
     "data": {
      "text/plain": [
       "<matplotlib.legend.Legend at 0x7e565419dd80>"
      ]
     },
     "execution_count": 32,
     "metadata": {},
     "output_type": "execute_result"
    },
    {
     "data": {
      "image/png": "[encoded data removed]",
      "text/plain": [
       "<Figure size 640x480 with 1 Axes>"
      ]
     },
     "metadata": {},
     "output_type": "display_data"
    }
   ],
   "source": [
    "plt.plot(r.history['accuracy'], label='acc')\n",
    "plt.plot(r.history['val_accuracy'], label='val_acc')\n",
    "plt.legend()"
   ]
  },
  {
   "cell_type": "code",
   "execution_count": 33,
   "id": "a76cb11b",
   "metadata": {
    "execution": {
     "iopub.execute_input": "2024-02-22T08:30:32.154445Z",
     "iopub.status.busy": "2024-02-22T08:30:32.153726Z",
     "iopub.status.idle": "2024-02-22T08:30:42.049469Z",
     "shell.execute_reply": "2024-02-22T08:30:42.048620Z"
    },
    "papermill": {
     "duration": 10.266957,
     "end_time": "2024-02-22T08:30:42.051930",
     "exception": false,
     "start_time": "2024-02-22T08:30:31.784973",
     "status": "completed"
    },
    "tags": []
   },
   "outputs": [
    {
     "name": "stdout",
     "output_type": "stream",
     "text": [
      "3125/3125 [==============================] - 7s 2ms/step\n"
     ]
    }
   ],
   "source": [
    "def decode_sentiment(score):\n",
    "    if score > 0.5 : return \"Positive\"\n",
    "    else : return \"Negative\"\n",
    "\n",
    "scores = model.predict(text_test, verbose = 1, batch_size = 128)\n",
    "y_pred = [decode_sentiment(score) for score in scores]"
   ]
  },
  {
   "cell_type": "code",
   "execution_count": 34,
   "id": "b0ec0a41",
   "metadata": {
    "execution": {
     "iopub.execute_input": "2024-02-22T08:30:42.863311Z",
     "iopub.status.busy": "2024-02-22T08:30:42.862947Z",
     "iopub.status.idle": "2024-02-22T08:30:50.549362Z",
     "shell.execute_reply": "2024-02-22T08:30:50.548350Z"
    },
    "papermill": {
     "duration": 8.116927,
     "end_time": "2024-02-22T08:30:50.551433",
     "exception": false,
     "start_time": "2024-02-22T08:30:42.434506",
     "status": "completed"
    },
    "tags": []
   },
   "outputs": [
    {
     "name": "stdout",
     "output_type": "stream",
     "text": [
      "              precision    recall  f1-score   support\n",
      "\n",
      "    Negative       0.77      0.78      0.78    199581\n",
      "    Positive       0.78      0.77      0.77    200419\n",
      "\n",
      "    accuracy                           0.78    400000\n",
      "   macro avg       0.78      0.78      0.78    400000\n",
      "weighted avg       0.78      0.78      0.78    400000\n",
      "\n"
     ]
    }
   ],
   "source": [
    "from sklearn.metrics import classification_report\n",
    "print(classification_report(list(test_data.sentiments), y_pred))"
   ]
  }
 ],
 "metadata": {
  "kaggle": {
   "accelerator": "gpu",
   "dataSources": [
    {
     "datasetId": 2477,
     "sourceId": 4140,
     "sourceType": "datasetVersion"
    }
   ],
   "dockerImageVersionId": 30648,
   "isGpuEnabled": true,
   "isInternetEnabled": true,
   "language": "python",
   "sourceType": "notebook"
  },
  "kernelspec": {
   "display_name": "Python 3",
   "language": "python",
   "name": "python3"
  },
  "language_info": {
   "codemirror_mode": {
    "name": "ipython",
    "version": 3
   },
   "file_extension": ".py",
   "mimetype": "text/x-python",
   "name": "python",
   "nbconvert_exporter": "python",
   "pygments_lexer": "ipython3",
   "version": "3.10.13"
  },
  "papermill": {
   "default_parameters": {},
   "duration": 423.38505,
   "end_time": "2024-02-22T08:30:54.262554",
   "environment_variables": {},
   "exception": null,
   "input_path": "__notebook__.ipynb",
   "output_path": "__notebook__.ipynb",
   "parameters": {},
   "start_time": "2024-02-22T08:23:50.877504",
   "version": "2.5.0"
  }
 },
 "nbformat": 4,
 "nbformat_minor": 5
}
